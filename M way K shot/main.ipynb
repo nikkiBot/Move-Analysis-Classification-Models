{
 "cells": [
  {
   "cell_type": "code",
   "execution_count": 1,
   "metadata": {},
   "outputs": [],
   "source": [
    "import pandas as pd\n",
    "from transformers import GPT2Tokenizer, GPT2ForSequenceClassification\n",
    "import torch\n",
    "from torch.utils.data import DataLoader, Dataset\n",
    "from sklearn.model_selection import train_test_split\n",
    "from sklearn.metrics import accuracy_score\n",
    "\n",
    "# Load the dataset from the Excel file\n",
    "file_path = 'dataset.xlsx'\n",
    "df = pd.read_excel(file_path, engine='openpyxl')\n",
    "sentences = df.iloc[:, 0].tolist()\n",
    "labels = df.iloc[:, 1].tolist()\n",
    "labels2 = []\n",
    "for label in labels:\n",
    "    if label == 'a1':\n",
    "        labels2.append(0)\n",
    "    if label == 'a2':\n",
    "        labels2.append(1)\n",
    "    if label == 'a3':\n",
    "        labels2.append(2)\n",
    "    if label == 'a4':\n",
    "        labels2.append(3)\n",
    "    if label == 'a5':\n",
    "        labels2.append(4)\n",
    "labels = labels2"
   ]
  },
  {
   "cell_type": "code",
   "execution_count": 2,
   "metadata": {},
   "outputs": [],
   "source": [
    "# Split the dataset into train and test sets (in the ratio 4:1)\n",
    "train_sentences, test_sentences, train_labels, test_labels = train_test_split(sentences, labels, test_size=0.2, random_state=42)\n",
    "\n",
    "# Define the N-way K-shot dataset\n",
    "class FewShotDataset(Dataset):\n",
    "    def __init__(self, sentences, labels, tokenizer, n_shot=5):\n",
    "        self.sentences = sentences\n",
    "        self.labels = labels\n",
    "        self.tokenizer = tokenizer\n",
    "        # self.n_shot = n_shot\n",
    "        \n",
    "\n",
    "    def __len__(self):\n",
    "        return len(self.sentences)\n",
    "\n",
    "    def __getitem__(self, idx) -> tuple[torch.tensor, torch.tensor, torch.tensor, torch.tensor]:\n",
    "        sentence = self.sentences[idx]\n",
    "        label = self.labels[idx]\n",
    "\n",
    "        # Check if the sentence is a string; if not, convert it to string\n",
    "        if not isinstance(sentence, str):\n",
    "            sentence = str(sentence)\n",
    "\n",
    "        # Encode the sentence and handle possible exceptions\n",
    "        encoded_sentence = self.tokenizer.encode(sentence, add_special_tokens=True)\n",
    "        # print(encoded_sentence)\n",
    "        return torch.tensor(encoded_sentence), torch.tensor(label)  # Assuming selected_positives and selected_negatives are not used in your current implementation\n",
    "    "
   ]
  },
  {
   "cell_type": "code",
   "execution_count": 3,
   "metadata": {},
   "outputs": [
    {
     "name": "stderr",
     "output_type": "stream",
     "text": [
      "Some weights of GPT2ForSequenceClassification were not initialized from the model checkpoint at gpt2 and are newly initialized: ['score.weight']\n",
      "You should probably TRAIN this model on a down-stream task to be able to use it for predictions and inference.\n"
     ]
    }
   ],
   "source": [
    "# Load pre-trained GPT-2 model and tokenizer (smaller version) and add a padding token\n",
    "tokenizer = GPT2Tokenizer.from_pretrained('gpt2')\n",
    "tokenizer.add_special_tokens({'pad_token': '[PAD]'})\n",
    "\n",
    "model = GPT2ForSequenceClassification.from_pretrained('gpt2', num_labels=5)"
   ]
  },
  {
   "cell_type": "code",
   "execution_count": 5,
   "metadata": {},
   "outputs": [
    {
     "name": "stdout",
     "output_type": "stream",
     "text": [
      "Epoch 1/10, Loss: 1.4636\n",
      "Epoch 2/10, Loss: 0.8776\n",
      "Epoch 3/10, Loss: 0.5109\n",
      "Epoch 4/10, Loss: 0.2134\n",
      "Epoch 5/10, Loss: 0.1302\n",
      "Epoch 6/10, Loss: 0.0671\n",
      "Epoch 7/10, Loss: 0.0681\n",
      "Epoch 8/10, Loss: 0.0305\n",
      "Epoch 9/10, Loss: 0.0296\n",
      "Epoch 10/10, Loss: 0.0262\n"
     ]
    }
   ],
   "source": [
    "# Prepare the train and test datasets and dataloaders\n",
    "\n",
    "train_dataset = FewShotDataset(train_sentences, train_labels, tokenizer, n_shot=5)\n",
    "\n",
    "train_dataloader = DataLoader(train_dataset, batch_size=1, shuffle=True)\n",
    "\n",
    "\n",
    "test_dataset = FewShotDataset(test_sentences, test_labels, tokenizer, n_shot=5)\n",
    "test_dataloader = DataLoader(test_dataset, batch_size=1, shuffle=False)\n",
    "\n",
    "\n",
    "# Training loop (fine-tuning for few-shot learning)\n",
    "optimizer = torch.optim.AdamW(model.parameters(), lr=1e-5)\n",
    "device = torch.device(\"cuda\" if torch.cuda.is_available() else \"cpu\")\n",
    "model.to(device)\n",
    "\n",
    "num_epochs = 10\n",
    "for epoch in range(num_epochs):\n",
    "    total_loss = 0\n",
    "    for batch in train_dataloader:\n",
    "        try:\n",
    "            inputs = batch[0].to(device)\n",
    "            labels = batch[1].to(device)\n",
    "        except Exception as e:\n",
    "            print(\"Error occurred:\", e)\n",
    "            print(\"Batch contents:\", batch)\n",
    "            continue  # Skip this batch and continue with the next one\n",
    "\n",
    "        optimizer.zero_grad()\n",
    "        outputs = model(inputs, labels=labels)\n",
    "        loss = outputs.loss\n",
    "        loss.backward()\n",
    "        optimizer.step()\n",
    "        total_loss += loss.item()\n",
    "    average_loss = total_loss / len(train_dataloader)\n",
    "    print(f'Epoch {epoch + 1}/{num_epochs}, Loss: {average_loss:.4f}')\n"
   ]
  }
 ],
 "metadata": {
  "kernelspec": {
   "display_name": "Python 3",
   "language": "python",
   "name": "python3"
  },
  "language_info": {
   "codemirror_mode": {
    "name": "ipython",
    "version": 3
   },
   "file_extension": ".py",
   "mimetype": "text/x-python",
   "name": "python",
   "nbconvert_exporter": "python",
   "pygments_lexer": "ipython3",
   "version": "3.11.2"
  }
 },
 "nbformat": 4,
 "nbformat_minor": 2
}
