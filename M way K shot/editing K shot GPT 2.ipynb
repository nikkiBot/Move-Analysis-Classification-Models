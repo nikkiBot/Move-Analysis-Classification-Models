{
 "cells": [
  {
   "cell_type": "markdown",
   "metadata": {},
   "source": [
    "# K shot Model using GPT2 "
   ]
  },
  {
   "cell_type": "code",
   "execution_count": 1,
   "metadata": {},
   "outputs": [],
   "source": [
    "import pandas as pd\n",
    "from transformers import GPT2Tokenizer, GPT2ForSequenceClassification\n",
    "import torch\n",
    "from torch.utils.data import DataLoader, Dataset\n",
    "from sklearn.model_selection import train_test_split\n",
    "from sklearn.metrics import accuracy_score\n",
    "\n",
    "# Load the dataset from the Excel file\n",
    "file_path = 'dataset.xlsx'\n",
    "df = pd.read_excel(file_path, engine='openpyxl')\n",
    "sentences = df.iloc[:, 0].tolist()\n",
    "labels = df.iloc[:, 1].tolist()\n",
    "labels2 = []\n",
    "for label in labels:\n",
    "    if label == 'a1':\n",
    "        labels2.append(0)\n",
    "    if label == 'a2':\n",
    "        labels2.append(1)\n",
    "    if label == 'a3':\n",
    "        labels2.append(2)\n",
    "    if label == 'a4':\n",
    "        labels2.append(3)\n",
    "    if label == 'a5':\n",
    "        labels2.append(4)\n",
    "labels = labels2"
   ]
  },
  {
   "cell_type": "code",
   "execution_count": 2,
   "metadata": {},
   "outputs": [],
   "source": [
    "# Split the dataset into train and test sets (in the ratio 4:1)\n",
    "train_sentences, test_sentences, train_labels, test_labels = train_test_split(sentences, labels, test_size=0.1, random_state=1)\n",
    "\n",
    "# Define the N-way K-shot dataset\n",
    "class FewShotDataset(Dataset):\n",
    "    def __init__(self, sentences, labels, tokenizer, n_shot=5):\n",
    "        self.sentences = sentences\n",
    "        self.labels = labels\n",
    "        self.tokenizer = tokenizer\n",
    "        # self.n_shot = n_shot\n",
    "        \n",
    "\n",
    "    def __len__(self):\n",
    "        return len(self.sentences)\n",
    "\n",
    "    def __getitem__(self, idx) -> tuple[torch.tensor, torch.tensor, torch.tensor, torch.tensor]:\n",
    "        sentence = self.sentences[idx]\n",
    "        label = self.labels[idx]\n",
    "\n",
    "        # Check if the sentence is a string; if not, convert it to string\n",
    "        if not isinstance(sentence, str):\n",
    "            sentence = str(sentence)\n",
    "\n",
    "        # Encode the sentence and handle possible exceptions\n",
    "        encoded_sentence = self.tokenizer.encode(sentence, add_special_tokens=True)\n",
    "        # print(encoded_sentence)\n",
    "        return torch.tensor(encoded_sentence), torch.tensor(label)  # Assuming selected_positives and selected_negatives are not used in your current implementation\n",
    "    "
   ]
  },
  {
   "cell_type": "code",
   "execution_count": 3,
   "metadata": {},
   "outputs": [
    {
     "name": "stderr",
     "output_type": "stream",
     "text": [
      "Some weights of GPT2ForSequenceClassification were not initialized from the model checkpoint at gpt2 and are newly initialized: ['score.weight']\n",
      "You should probably TRAIN this model on a down-stream task to be able to use it for predictions and inference.\n"
     ]
    },
    {
     "data": {
      "text/plain": [
       "GPT2ForSequenceClassification(\n",
       "  (transformer): GPT2Model(\n",
       "    (wte): Embedding(50257, 768)\n",
       "    (wpe): Embedding(1024, 768)\n",
       "    (drop): Dropout(p=0.1, inplace=False)\n",
       "    (h): ModuleList(\n",
       "      (0-11): 12 x GPT2Block(\n",
       "        (ln_1): LayerNorm((768,), eps=1e-05, elementwise_affine=True)\n",
       "        (attn): GPT2Attention(\n",
       "          (c_attn): Conv1D()\n",
       "          (c_proj): Conv1D()\n",
       "          (attn_dropout): Dropout(p=0.1, inplace=False)\n",
       "          (resid_dropout): Dropout(p=0.1, inplace=False)\n",
       "        )\n",
       "        (ln_2): LayerNorm((768,), eps=1e-05, elementwise_affine=True)\n",
       "        (mlp): GPT2MLP(\n",
       "          (c_fc): Conv1D()\n",
       "          (c_proj): Conv1D()\n",
       "          (act): NewGELUActivation()\n",
       "          (dropout): Dropout(p=0.1, inplace=False)\n",
       "        )\n",
       "      )\n",
       "    )\n",
       "    (ln_f): LayerNorm((768,), eps=1e-05, elementwise_affine=True)\n",
       "  )\n",
       "  (score): Linear(in_features=768, out_features=5, bias=False)\n",
       ")"
      ]
     },
     "execution_count": 3,
     "metadata": {},
     "output_type": "execute_result"
    }
   ],
   "source": [
    "# Load pre-trained GPT-2 model and tokenizer (smaller version) and add a padding token\n",
    "tokenizer = GPT2Tokenizer.from_pretrained('gpt2')\n",
    "tokenizer.add_special_tokens({'pad_token': '[PAD]'}) # Add a [PAD] token to the vocabulary (for padding) which may be used by the tokenizer to encode sequences with different lengths\n",
    "\n",
    "model = GPT2ForSequenceClassification.from_pretrained('gpt2', num_labels=5)\n",
    "# Initialize your model and optimizer\n",
    "optimizer = torch.optim.AdamW(model.parameters(), lr=1e-5)\n",
    "device = torch.device(\"cuda\" if torch.cuda.is_available() else \"cpu\")\n",
    "model.to(device)\n"
   ]
  },
  {
   "cell_type": "code",
   "execution_count": 6,
   "metadata": {},
   "outputs": [],
   "source": [
    "# Prepare the train and test datasets and dataloaders\n",
    "train_dataset = FewShotDataset(train_sentences, train_labels, tokenizer, n_shot=5)\n",
    "test_dataset = FewShotDataset(test_sentences, test_labels, tokenizer, n_shot=5)\n",
    "\n",
    "train_dataloader = DataLoader(train_dataset, shuffle=True)\n",
    "test_dataloader = DataLoader(test_dataset, shuffle=False)"
   ]
  },
  {
   "cell_type": "code",
   "execution_count": 9,
   "metadata": {},
   "outputs": [
    {
     "name": "stdout",
     "output_type": "stream",
     "text": [
      "Epoch 1/3, Loss: 1.4644\n",
      "Epoch 2/3, Loss: 0.8766\n",
      "Epoch 3/3, Loss: 0.3268\n"
     ]
    }
   ],
   "source": [
    "'''Create a neural network and train it on the dataset'''\n",
    "\n",
    "\n",
    "\n",
    "# Train the model\n",
    "num_epochs = 10\n",
    "for epoch in range(num_epochs):\n",
    "    total_loss = 0\n",
    "    for batch in train_dataloader:\n",
    "        inputs = batch[0].to(device)\n",
    "        labels = batch[-1].to(device)\n",
    "        optimizer.zero_grad()\n",
    "        outputs = model(inputs, labels = labels)\n",
    "        loss = outputs.loss\n",
    "        loss.backward()\n",
    "        optimizer.step()\n",
    "        total_loss += loss.item()\n",
    "    average_loss = total_loss / len(train_dataloader)\n",
    "    print(f'Epoch {epoch + 1}/{num_epochs}, Loss: {average_loss:.4f}')\n",
    "\n"
   ]
  },
  {
   "cell_type": "code",
   "execution_count": 10,
   "metadata": {},
   "outputs": [],
   "source": [
    "#Test the model\n",
    "model.eval()  # Set the model to evaluation mode\n",
    "\n",
    "correct_predictions = 0\n",
    "total_predictions = 0\n",
    "\n",
    "predicted_labels = []\n",
    "true_labels = []\n",
    "\n",
    "with torch.no_grad():\n",
    "    for batch in test_dataloader:\n",
    "        inputs = batch[0].to(device)\n",
    "        label = batch[1].to(device)\n",
    "        outputs = model(inputs, labels = label)\n",
    "        predicted = torch.softmax(input = outputs.logits, dim=1)\n",
    "        predicted = torch.argmax(predicted)\n",
    "        predicted_labels.append(int(predicted))\n",
    "        true_labels.append(int(label))\n",
    "\n",
    "        total_predictions += label.size(0)\n",
    "        correct_predictions += (predicted == label).sum().item()"
   ]
  },
  {
   "cell_type": "code",
   "execution_count": 11,
   "metadata": {},
   "outputs": [
    {
     "name": "stdout",
     "output_type": "stream",
     "text": [
      "Testing Accuracy: 46.15%\n",
      "Precision: 0.56\n"
     ]
    }
   ],
   "source": [
    "#Checking scores\n",
    "\n",
    "accuracy = (correct_predictions / total_predictions) * 100\n",
    "print(f'Testing Accuracy: {accuracy:.2f}%')\n",
    "\n",
    "from sklearn.metrics import precision_score\n",
    "precision = precision_score(true_labels, predicted_labels, average='weighted')\n",
    "print(f'Precision: {precision:.2f}')\n",
    "\n"
   ]
  }
 ],
 "metadata": {
  "kernelspec": {
   "display_name": "Python 3",
   "language": "python",
   "name": "python3"
  },
  "language_info": {
   "codemirror_mode": {
    "name": "ipython",
    "version": 3
   },
   "file_extension": ".py",
   "mimetype": "text/x-python",
   "name": "python",
   "nbconvert_exporter": "python",
   "pygments_lexer": "ipython3",
   "version": "3.11.4"
  }
 },
 "nbformat": 4,
 "nbformat_minor": 2
}
